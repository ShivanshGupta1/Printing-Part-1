{
  "nbformat": 4,
  "nbformat_minor": 0,
  "metadata": {
    "colab": {
      "name": "Printing in Python Part 1.ipynb",
      "provenance": [],
      "authorship_tag": "ABX9TyMvd1af55TSADga6Gc5HC5U",
      "include_colab_link": true
    },
    "kernelspec": {
      "name": "python3",
      "display_name": "Python 3"
    }
  },
  "cells": [
    {
      "cell_type": "markdown",
      "metadata": {
        "id": "view-in-github",
        "colab_type": "text"
      },
      "source": [
        "<a href=\"https://colab.research.google.com/github/ShivanshGupta1/Printing-Part-1/blob/main/Printing_in_Python_Part_1.ipynb\" target=\"_parent\"><img src=\"https://colab.research.google.com/assets/colab-badge.svg\" alt=\"Open In Colab\"/></a>"
      ]
    },
    {
      "cell_type": "code",
      "metadata": {
        "id": "_SKwAcmEr31H"
      },
      "source": [
        "print(\"Clark's shoes are good\") #print is a function to print something, we can use ''/\"\", '()' inside it we put the arguements, we can pass number like (20.4)"
      ],
      "execution_count": null,
      "outputs": []
    },
    {
      "cell_type": "code",
      "metadata": {
        "id": "T_XDhKRPsGqn"
      },
      "source": [
        "print('Clark\\'shoes are good') #('Clark\\'shoes are good') the back slash is used to not give an error"
      ],
      "execution_count": null,
      "outputs": []
    },
    {
      "cell_type": "code",
      "metadata": {
        "id": "3As22NmPsI0v"
      },
      "source": [
        "print('Hello', 'World', 4)#printing multiple arguements"
      ],
      "execution_count": null,
      "outputs": []
    }
  ]
}